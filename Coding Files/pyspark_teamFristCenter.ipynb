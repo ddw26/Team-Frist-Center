{
  "nbformat": 4,
  "nbformat_minor": 0,
  "metadata": {
    "colab": {
      "name": "pyspark_teamFristCenter.ipynb",
      "provenance": [],
      "collapsed_sections": []
    },
    "kernelspec": {
      "name": "python3",
      "display_name": "Python 3"
    },
    "language_info": {
      "name": "python"
    }
  },
  "cells": [
    {
      "cell_type": "code",
      "metadata": {
        "colab": {
          "base_uri": "https://localhost:8080/"
        },
        "id": "WYTtiBLRLcz1",
        "outputId": "6f463ec0-a80b-454d-acbc-3e70cb0df604"
      },
      "source": [
        "# Install Spark\n",
        "\n",
        "import os\n",
        "# Find the latest version of spark 3.0  from http://www.apache.org/dist/spark/ and enter as the spark version\n",
        "# For example:\n",
        "# spark_version = 'spark-3.0.3'\n",
        "spark_version = 'spark-3.1.2'\n",
        "os.environ['SPARK_VERSION']=spark_version\n",
        "\n",
        "# Install Spark and Java\n",
        "!apt-get update\n",
        "!apt-get install openjdk-11-jdk-headless -qq > /dev/null\n",
        "!wget -q http://www.apache.org/dist/spark/$SPARK_VERSION/$SPARK_VERSION-bin-hadoop2.7.tgz\n",
        "!tar xf $SPARK_VERSION-bin-hadoop2.7.tgz\n",
        "!pip install -q findspark\n",
        "\n",
        "# Set Environment Variables\n",
        "import os\n",
        "os.environ[\"JAVA_HOME\"] = \"/usr/lib/jvm/java-11-openjdk-amd64\"\n",
        "os.environ[\"SPARK_HOME\"] = f\"/content/{spark_version}-bin-hadoop2.7\"\n",
        "\n",
        "# Start a SparkSession\n",
        "import findspark\n",
        "findspark.init()\n"
      ],
      "execution_count": 13,
      "outputs": [
        {
          "output_type": "stream",
          "text": [
            "\r0% [Working]\r            \rHit:1 https://cloud.r-project.org/bin/linux/ubuntu bionic-cran40/ InRelease\n",
            "\r0% [Connecting to archive.ubuntu.com] [Connecting to security.ubuntu.com (91.18\r0% [1 InRelease gpgv 3,626 B] [Connecting to archive.ubuntu.com] [Connecting to\r                                                                               \rIgn:2 https://developer.download.nvidia.com/compute/cuda/repos/ubuntu1804/x86_64  InRelease\n",
            "\r0% [1 InRelease gpgv 3,626 B] [Connecting to archive.ubuntu.com (91.189.88.152)\r                                                                               \rIgn:3 https://developer.download.nvidia.com/compute/machine-learning/repos/ubuntu1804/x86_64  InRelease\n",
            "\r0% [1 InRelease gpgv 3,626 B] [Connecting to archive.ubuntu.com (91.189.88.152)\r                                                                               \rHit:4 https://developer.download.nvidia.com/compute/cuda/repos/ubuntu1804/x86_64  Release\n",
            "\r0% [1 InRelease gpgv 3,626 B] [Connecting to archive.ubuntu.com (91.189.88.152)\r                                                                               \rHit:5 https://developer.download.nvidia.com/compute/machine-learning/repos/ubuntu1804/x86_64  Release\n",
            "Hit:6 http://security.ubuntu.com/ubuntu bionic-security InRelease\n",
            "Hit:7 http://ppa.launchpad.net/c2d4u.team/c2d4u4.0+/ubuntu bionic InRelease\n",
            "Hit:8 http://archive.ubuntu.com/ubuntu bionic InRelease\n",
            "Hit:9 http://archive.ubuntu.com/ubuntu bionic-updates InRelease\n",
            "Hit:11 http://ppa.launchpad.net/cran/libgit2/ubuntu bionic InRelease\n",
            "Hit:12 http://archive.ubuntu.com/ubuntu bionic-backports InRelease\n",
            "Hit:14 http://ppa.launchpad.net/deadsnakes/ppa/ubuntu bionic InRelease\n",
            "Hit:15 http://ppa.launchpad.net/graphics-drivers/ppa/ubuntu bionic InRelease\n",
            "Reading package lists... Done\n"
          ],
          "name": "stdout"
        }
      ]
    },
    {
      "cell_type": "code",
      "metadata": {
        "colab": {
          "base_uri": "https://localhost:8080/"
        },
        "id": "ORxRHdShMKja",
        "outputId": "2583824d-a438-40e2-8c8c-19cbf2a04655"
      },
      "source": [
        "# Download postgres driver\n",
        "\n",
        "!wget https://jdbc.postgresql.org/download/postgresql-42.2.16.jar\n"
      ],
      "execution_count": 14,
      "outputs": [
        {
          "output_type": "stream",
          "text": [
            "--2021-08-06 20:45:07--  https://jdbc.postgresql.org/download/postgresql-42.2.16.jar\n",
            "Resolving jdbc.postgresql.org (jdbc.postgresql.org)... 72.32.157.228, 2001:4800:3e1:1::228\n",
            "Connecting to jdbc.postgresql.org (jdbc.postgresql.org)|72.32.157.228|:443... connected.\n",
            "HTTP request sent, awaiting response... 200 OK\n",
            "Length: 1002883 (979K) [application/java-archive]\n",
            "Saving to: ‘postgresql-42.2.16.jar.3’\n",
            "\n",
            "postgresql-42.2.16. 100%[===================>] 979.38K  5.98MB/s    in 0.2s    \n",
            "\n",
            "2021-08-06 20:45:07 (5.98 MB/s) - ‘postgresql-42.2.16.jar.3’ saved [1002883/1002883]\n",
            "\n"
          ],
          "name": "stdout"
        }
      ]
    },
    {
      "cell_type": "code",
      "metadata": {
        "id": "E0qOV7BUMP2-"
      },
      "source": [
        "# Start Spark session that adds driver\n",
        "\n",
        "from pyspark.sql import SparkSession\n",
        "spark = SparkSession.builder.appName(\"CloudETL\").config(\"spark.driver.extraClassPath\",\"/content/postgresql-42.2.16.jar\").getOrCreate()\n"
      ],
      "execution_count": 15,
      "outputs": []
    },
    {
      "cell_type": "code",
      "metadata": {
        "id": "Q8wNRhX2MiTk"
      },
      "source": [
        "# Read in data from S3 Buckets\n",
        "from pyspark import SparkFiles\n",
        "url =\"https://chandlerkaiden-teamfristcenter.s3.amazonaws.com/aws_comp.csv\"\n",
        "spark.sparkContext.addFile(url)\n",
        "user_data_df = spark.read.csv(SparkFiles.get(\"aws_comp.csv\"), sep=\",\", header=True, inferSchema=True)\n"
      ],
      "execution_count": 16,
      "outputs": []
    },
    {
      "cell_type": "code",
      "metadata": {
        "colab": {
          "base_uri": "https://localhost:8080/"
        },
        "id": "Z02cbY11NT0G",
        "outputId": "dabc7c35-3aee-443d-adfd-503ad6a03bcf"
      },
      "source": [
        "# Show DataFrame\n",
        "user_data_df.show()"
      ],
      "execution_count": 17,
      "outputs": [
        {
          "output_type": "stream",
          "text": [
            "+-------+-------------------+--------------------+-------------------+----------------------+--------------------+-------------+---------------------+-----------------+---------------------------+---------------------+---------------+--------------+------------+-------------------------------------+---------------------+--------------------+-----------------+------------+---------------+-------------------------+----------------------------------+------------------------------------+-------+-------------------+--------------------+-------------------+----------------------+--------------------+-------------+---------------------+-------------------+---------------------------+---------------------+---------------+--------------+------------+-------------------------------------+---------------------+--------------------+-----------------+------------+---------------+-------------------------+----------------------------------+------------------------------------+\n",
            "|index_k|Date file created_k|Month of intercept_k|Time of intercept_k|Data sampling period_k|Sub region of trip_k|Kind of day_k|Fish target species_k|Mode of fishing_k|Collapsed area of fishing_k|Distance from shore_k|Hours on boat_k|Hours fished_k|Catch fish_k|Number of fish avail for inspection_k|County of intercept_k|State of intercept_k|Area of fishing_k|Angler age_k|Angler gender_k|Number in fishing party_k|Number of contributing fishermen_k|See any sea turtles while fishing?_k|index_v|Date file created_v|Month of intercept_v|Time of intercept_v|Data sampling period_v|Sub region of trip_v|Kind of day_v|Fish target species_v|  Mode of fishing_v|Collapsed area of fishing_v|Distance from shore_v|Hours on boat_v|Hours fished_v|Catch fish_v|Number of fish avail for inspection_v|County of intercept_v|State of intercept_v|Area of fishing_v|Angler age_v|Angler gender_v|Number in fishing party_v|Number of contributing fishermen_v|See any sea turtles while fishing?_v|\n",
            "+-------+-------------------+--------------------+-------------------+----------------------+--------------------+-------------+---------------------+-----------------+---------------------------+---------------------+---------------+--------------+------------+-------------------------------------+---------------------+--------------------+-----------------+------------+---------------+-------------------------+----------------------------------+------------------------------------+-------+-------------------+--------------------+-------------------+----------------------+--------------------+-------------+---------------------+-------------------+---------------------------+---------------------+---------------+--------------+------------+-------------------------------------+---------------------+--------------------+-----------------+------------+---------------+-------------------------+----------------------------------+------------------------------------+\n",
            "|      0|          16-Mar-20|                   2|               1512|                     1|                   6|           wd|     SPOTTED SEATROUT|                7|                          5|                    8|            7.0|           6.0|           1|                                    3|                  133|                  37|                3|          52|              1|                        2|                                 2|                                   3|      0|          16-Mar-20|                   2|               1512|      January/February|South Atlantic (N...|      Weekday|     SPOTTED SEATROUT|       Charter boat|                     Inland|       not applicable|            7.0|           6.0|         Yes|                                    3|               Onslow|                  NC|            River|          52|           Male|                        2|                                 2|                                  No|\n",
            "|      1|          16-Mar-20|                   1|               1250|                     1|                   6|           we|             RED DRUM|                7|                          5|                    8|            5.0|           4.5|           2|                                    0|                  129|                  37|                3|          69|              1|                        2|                                 1|                                   3|      1|          16-Mar-20|                   1|               1250|      January/February|South Atlantic (N...|      Weekend|             RED DRUM|       Charter boat|                     Inland|       not applicable|            5.0|           4.5|          No|                                    0|          New Hanover|                  NC|            River|          69|           Male|                        2|                                 1|                                  No|\n",
            "|      2|          16-Mar-20|                   1|               1250|                     1|                   6|           we|             RED DRUM|                7|                          5|                    8|            5.0|           4.5|           2|                                    0|                  129|                  37|                3|          70|              1|                        2|                                 1|                                   3|      2|          16-Mar-20|                   1|               1250|      January/February|South Atlantic (N...|      Weekend|             RED DRUM|       Charter boat|                     Inland|       not applicable|            5.0|           4.5|          No|                                    0|          New Hanover|                  NC|            River|          70|           Male|                        2|                                 1|                                  No|\n",
            "|      3|          16-Mar-20|                   2|               1303|                     1|                   6|           we|             RED DRUM|                7|                          5|                    8|            6.0|           4.0|           2|                                    0|                  129|                  37|                3|          36|              1|                        4|                                 1|                                   3|      3|          16-Mar-20|                   2|               1303|      January/February|South Atlantic (N...|      Weekend|             RED DRUM|       Charter boat|                     Inland|       not applicable|            6.0|           4.0|          No|                                    0|          New Hanover|                  NC|            River|          36|           Male|                        4|                                 1|                                  No|\n",
            "|      4|          16-Mar-20|                   2|               1303|                     1|                   6|           we|             RED DRUM|                7|                          5|                    8|            6.0|           4.0|           2|                                    0|                  129|                  37|                3|          50|              1|                        4|                                 1|                                   3|      4|          16-Mar-20|                   2|               1303|      January/February|South Atlantic (N...|      Weekend|             RED DRUM|       Charter boat|                     Inland|       not applicable|            6.0|           4.0|          No|                                    0|          New Hanover|                  NC|            River|          50|           Male|                        4|                                 1|                                  No|\n",
            "|      5|          16-Mar-20|                   2|               1409|                     1|                   6|           we|       BLACK SEA BASS|                8|                          2|                    2|            7.0|           5.0|           1|                                   14|                   31|                  37|                1|          25|              1|                        2|                                 2|                                   1|      5|          16-Mar-20|                   2|               1409|      January/February|South Atlantic (N...|      Weekend|       BLACK SEA BASS|Private/Rental boat|       Ocean > 3 mi (all...| > 3 miles (all bu...|            7.0|           5.0|         Yes|                                   14|             Carteret|                  NC|       Open water|          25|           Male|                        2|                                 2|                          Yes, alive|\n",
            "|      6|          16-Mar-20|                   1|               1434|                     1|                   6|           wd|         BLUEFIN TUNA|                8|                          2|                    2|            7.5|           4.0|           2|                                    0|                   31|                  37|                1|          68|              1|                        2|                                 1|                                   3|      6|          16-Mar-20|                   1|               1434|      January/February|South Atlantic (N...|      Weekday|         BLUEFIN TUNA|Private/Rental boat|       Ocean > 3 mi (all...| > 3 miles (all bu...|            7.5|           4.0|          No|                                    0|             Carteret|                  NC|       Open water|          68|           Male|                        2|                                 1|                                  No|\n",
            "|      7|          16-Mar-20|                   1|               1435|                     1|                   6|           wd|         BLUEFIN TUNA|                8|                          2|                    2|            7.5|           4.0|           2|                                    0|                   31|                  37|                1|          67|              2|                        2|                                 1|                                   3|      7|          16-Mar-20|                   1|               1435|      January/February|South Atlantic (N...|      Weekday|         BLUEFIN TUNA|Private/Rental boat|       Ocean > 3 mi (all...| > 3 miles (all bu...|            7.5|           4.0|          No|                                    0|             Carteret|                  NC|       Open water|          67|         Female|                        2|                                 1|                                  No|\n",
            "|      8|          16-Mar-20|                   1|               1542|                     1|                   6|           wd|    VERMILION SNAPPER|                8|                          2|                    2|            5.5|           3.0|           2|                                    0|                   31|                  37|                1|          47|              1|                        4|                                 1|                                   1|      8|          16-Mar-20|                   1|               1542|      January/February|South Atlantic (N...|      Weekday|    VERMILION SNAPPER|Private/Rental boat|       Ocean > 3 mi (all...| > 3 miles (all bu...|            5.5|           3.0|          No|                                    0|             Carteret|                  NC|       Open water|          47|           Male|                        4|                                 1|                          Yes, alive|\n",
            "|      9|          16-Mar-20|                   1|               1544|                     1|                   6|           wd|    VERMILION SNAPPER|                8|                          2|                    2|            5.5|           3.0|           2|                                    0|                   31|                  37|                1|          10|              1|                        4|                                 1|                                   1|      9|          16-Mar-20|                   1|               1544|      January/February|South Atlantic (N...|      Weekday|    VERMILION SNAPPER|Private/Rental boat|       Ocean > 3 mi (all...| > 3 miles (all bu...|            5.5|           3.0|          No|                                    0|             Carteret|                  NC|       Open water|          10|           Male|                        4|                                 1|                          Yes, alive|\n",
            "|     10|          16-Mar-20|                   1|               1645|                     1|                   6|           wd|                WAHOO|                8|                          2|                    2|           10.0|           5.0|           2|                                    0|                   31|                  37|                1|          39|              1|                        3|                                 1|                                   3|     10|          16-Mar-20|                   1|               1645|      January/February|South Atlantic (N...|      Weekday|                WAHOO|Private/Rental boat|       Ocean > 3 mi (all...| > 3 miles (all bu...|           10.0|           5.0|          No|                                    0|             Carteret|                  NC|       Open water|          39|           Male|                        3|                                 1|                                  No|\n",
            "|     11|          16-Mar-20|                   1|               1646|                     1|                   6|           wd|                WAHOO|                8|                          2|                    2|           10.0|           5.0|           2|                                    0|                   31|                  37|                1|          11|              1|                        3|                                 1|                                   3|     11|          16-Mar-20|                   1|               1646|      January/February|South Atlantic (N...|      Weekday|                WAHOO|Private/Rental boat|       Ocean > 3 mi (all...| > 3 miles (all bu...|           10.0|           5.0|          No|                                    0|             Carteret|                  NC|       Open water|          11|           Male|                        3|                                 1|                                  No|\n",
            "|     12|          16-Mar-20|                   1|               1646|                     1|                   6|           wd|                WAHOO|                8|                          2|                    2|           10.0|           5.0|           2|                                    0|                   31|                  37|                1|          28|              1|                        3|                                 1|                                   3|     12|          16-Mar-20|                   1|               1646|      January/February|South Atlantic (N...|      Weekday|                WAHOO|Private/Rental boat|       Ocean > 3 mi (all...| > 3 miles (all bu...|           10.0|           5.0|          No|                                    0|             Carteret|                  NC|       Open water|          28|           Male|                        3|                                 1|                                  No|\n",
            "|     13|          16-Mar-20|                   1|               1544|                     1|                   6|           we|       BLACK SEA BASS|                8|                          2|                    2|            8.5|           6.5|           1|                                    3|                   19|                  37|                1|          64|              1|                        3|                                 3|                                   3|     13|          16-Mar-20|                   1|               1544|      January/February|South Atlantic (N...|      Weekend|       BLACK SEA BASS|Private/Rental boat|       Ocean > 3 mi (all...| > 3 miles (all bu...|            8.5|           6.5|         Yes|                                    3|            Brunswick|                  NC|       Open water|          64|           Male|                        3|                                 3|                                  No|\n",
            "|     14|          16-Mar-20|                   2|               1553|                     1|                   6|           we|       YELLOWFIN TUNA|                8|                          2|                    2|            8.0|           6.0|           2|                                    0|                   55|                  37|                1|          36|              1|                        5|                                 1|                                   1|     14|          16-Mar-20|                   2|               1553|      January/February|South Atlantic (N...|      Weekend|       YELLOWFIN TUNA|Private/Rental boat|       Ocean > 3 mi (all...| > 3 miles (all bu...|            8.0|           6.0|          No|                                    0|                 Dare|                  NC|       Open water|          36|           Male|                        5|                                 1|                          Yes, alive|\n",
            "|     15|          16-Mar-20|                   2|               1602|                     1|                   6|           we|       BLACK SEA BASS|                8|                          2|                    2|            6.0|           4.0|           2|                                    0|                   55|                  37|                1|          56|              1|                        3|                                 1|                                   3|     15|          16-Mar-20|                   2|               1602|      January/February|South Atlantic (N...|      Weekend|       BLACK SEA BASS|Private/Rental boat|       Ocean > 3 mi (all...| > 3 miles (all bu...|            6.0|           4.0|          No|                                    0|                 Dare|                  NC|       Open water|          56|           Male|                        3|                                 1|                                  No|\n",
            "|     16|          16-Mar-20|                   2|               1608|                     1|                   6|           we|       BLACK SEA BASS|                8|                          2|                    2|            6.0|           4.0|           2|                                    0|                   55|                  37|                1|          53|              1|                        3|                                 1|                                   3|     16|          16-Mar-20|                   2|               1608|      January/February|South Atlantic (N...|      Weekend|       BLACK SEA BASS|Private/Rental boat|       Ocean > 3 mi (all...| > 3 miles (all bu...|            6.0|           4.0|          No|                                    0|                 Dare|                  NC|       Open water|          53|           Male|                        3|                                 1|                                  No|\n",
            "|     17|          16-Mar-20|                   2|               1608|                     1|                   6|           we|       BLACK SEA BASS|                8|                          2|                    2|            6.0|           4.0|           2|                                    0|                   55|                  37|                1|          36|              1|                        3|                                 1|                                   3|     17|          16-Mar-20|                   2|               1608|      January/February|South Atlantic (N...|      Weekend|       BLACK SEA BASS|Private/Rental boat|       Ocean > 3 mi (all...| > 3 miles (all bu...|            6.0|           4.0|          No|                                    0|                 Dare|                  NC|       Open water|          36|           Male|                        3|                                 1|                                  No|\n",
            "|     18|          16-Mar-20|                   2|               1612|                     1|                   6|           we|           TUNA GENUS|                8|                          2|                    2|           11.0|           9.0|           1|                                    1|                   55|                  37|                1|          30|              1|                        4|                                 1|                                   3|     18|          16-Mar-20|                   2|               1612|      January/February|South Atlantic (N...|      Weekend|           TUNA GENUS|Private/Rental boat|       Ocean > 3 mi (all...| > 3 miles (all bu...|           11.0|           9.0|         Yes|                                    1|                 Dare|                  NC|       Open water|          30|           Male|                        4|                                 1|                                  No|\n",
            "|     19|          16-Mar-20|                   2|               1622|                     1|                   6|           we|         BLUEFIN TUNA|                8|                          2|                    2|            8.0|           6.0|           2|                                    0|                   55|                  37|                1|          41|              1|                        5|                                 1|                                   3|     19|          16-Mar-20|                   2|               1622|      January/February|South Atlantic (N...|      Weekend|         BLUEFIN TUNA|Private/Rental boat|       Ocean > 3 mi (all...| > 3 miles (all bu...|            8.0|           6.0|          No|                                    0|                 Dare|                  NC|       Open water|          41|           Male|                        5|                                 1|                                  No|\n",
            "+-------+-------------------+--------------------+-------------------+----------------------+--------------------+-------------+---------------------+-----------------+---------------------------+---------------------+---------------+--------------+------------+-------------------------------------+---------------------+--------------------+-----------------+------------+---------------+-------------------------+----------------------------------+------------------------------------+-------+-------------------+--------------------+-------------------+----------------------+--------------------+-------------+---------------------+-------------------+---------------------------+---------------------+---------------+--------------+------------+-------------------------------------+---------------------+--------------------+-----------------+------------+---------------+-------------------------+----------------------------------+------------------------------------+\n",
            "only showing top 20 rows\n",
            "\n"
          ],
          "name": "stdout"
        }
      ]
    }
  ]
}